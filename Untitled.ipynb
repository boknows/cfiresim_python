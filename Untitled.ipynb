{
 "cells": [
  {
   "cell_type": "code",
   "execution_count": 1,
   "metadata": {
    "collapsed": false
   },
   "outputs": [
    {
     "data": {
      "text/plain": [
       "<QuerySet [<DataPoint: DataPoint object>, <DataPoint: DataPoint object>, <DataPoint: DataPoint object>, <DataPoint: DataPoint object>, <DataPoint: DataPoint object>, <DataPoint: DataPoint object>, <DataPoint: DataPoint object>, <DataPoint: DataPoint object>, <DataPoint: DataPoint object>, <DataPoint: DataPoint object>, <DataPoint: DataPoint object>, <DataPoint: DataPoint object>, <DataPoint: DataPoint object>, <DataPoint: DataPoint object>, <DataPoint: DataPoint object>, <DataPoint: DataPoint object>, <DataPoint: DataPoint object>, <DataPoint: DataPoint object>, <DataPoint: DataPoint object>, <DataPoint: DataPoint object>, '...(remaining elements truncated)...']>"
      ]
     },
     "execution_count": 1,
     "metadata": {},
     "output_type": "execute_result"
    }
   ],
   "source": [
    "DataPoint.objects.all()"
   ]
  },
  {
   "cell_type": "code",
   "execution_count": null,
   "metadata": {
    "collapsed": true
   },
   "outputs": [],
   "source": []
  }
 ],
 "metadata": {
  "kernelspec": {
   "display_name": "Django Shell-Plus",
   "language": "python",
   "name": "django_extensions"
  },
  "language_info": {
   "codemirror_mode": {
    "name": "ipython",
    "version": 2
   },
   "file_extension": ".py",
   "mimetype": "text/x-python",
   "name": "python",
   "nbconvert_exporter": "python",
   "pygments_lexer": "ipython2",
   "version": "2.7.11"
  }
 },
 "nbformat": 4,
 "nbformat_minor": 2
}
